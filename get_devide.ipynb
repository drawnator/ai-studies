import torch
 
torch.cuda.get_device_name(device=None)
