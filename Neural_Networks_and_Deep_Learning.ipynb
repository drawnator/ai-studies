{
  "nbformat": 4,
  "nbformat_minor": 0,
  "metadata": {
    "colab": {
      "provenance": []
    },
    "kernelspec": {
      "name": "python3",
      "display_name": "Python 3"
    },
    "language_info": {
      "name": "python"
    },
    "widgets": {
      "application/vnd.jupyter.widget-state+json": {
        "962233f5634a41df8a51aeebd27de00f": {
          "model_module": "@jupyter-widgets/controls",
          "model_name": "VBoxModel",
          "model_module_version": "1.5.0",
          "state": {
            "_dom_classes": [
              "widget-interact"
            ],
            "_model_module": "@jupyter-widgets/controls",
            "_model_module_version": "1.5.0",
            "_model_name": "VBoxModel",
            "_view_count": null,
            "_view_module": "@jupyter-widgets/controls",
            "_view_module_version": "1.5.0",
            "_view_name": "VBoxView",
            "box_style": "",
            "children": [
              "IPY_MODEL_5e4921279ec44be8ac8fb29fc09031fb",
              "IPY_MODEL_47cdc574ee964c549efd271fdc42e95c",
              "IPY_MODEL_bf16075c8ce34c6f89b5ff75a6464a6e",
              "IPY_MODEL_dc0927cbecea43b1aae1b87eae9a3224"
            ],
            "layout": "IPY_MODEL_76cb13b09d7c4cd5a3ed4bf9b8706e00"
          }
        },
        "5e4921279ec44be8ac8fb29fc09031fb": {
          "model_module": "@jupyter-widgets/controls",
          "model_name": "IntSliderModel",
          "model_module_version": "1.5.0",
          "state": {
            "_dom_classes": [],
            "_model_module": "@jupyter-widgets/controls",
            "_model_module_version": "1.5.0",
            "_model_name": "IntSliderModel",
            "_view_count": null,
            "_view_module": "@jupyter-widgets/controls",
            "_view_module_version": "1.5.0",
            "_view_name": "IntSliderView",
            "continuous_update": true,
            "description": "point",
            "description_tooltip": null,
            "disabled": false,
            "layout": "IPY_MODEL_bdf45bdb319446a4b085d2cd10a18641",
            "max": 999,
            "min": 0,
            "orientation": "horizontal",
            "readout": true,
            "readout_format": "d",
            "step": 1,
            "style": "IPY_MODEL_af1069d89c094bddb72c797604be9aff",
            "value": 499
          }
        },
        "47cdc574ee964c549efd271fdc42e95c": {
          "model_module": "@jupyter-widgets/controls",
          "model_name": "IntSliderModel",
          "model_module_version": "1.5.0",
          "state": {
            "_dom_classes": [],
            "_model_module": "@jupyter-widgets/controls",
            "_model_module_version": "1.5.0",
            "_model_name": "IntSliderModel",
            "_view_count": null,
            "_view_module": "@jupyter-widgets/controls",
            "_view_module_version": "1.5.0",
            "_view_name": "IntSliderView",
            "continuous_update": true,
            "description": "Iterations",
            "description_tooltip": null,
            "disabled": false,
            "layout": "IPY_MODEL_6225a6f081cb441daec3a7920becc979",
            "max": 100,
            "min": 0,
            "orientation": "horizontal",
            "readout": true,
            "readout_format": "d",
            "step": 1,
            "style": "IPY_MODEL_04da3657c4fb42f886d727fe954a5c5b",
            "value": 71
          }
        },
        "bf16075c8ce34c6f89b5ff75a6464a6e": {
          "model_module": "@jupyter-widgets/controls",
          "model_name": "FloatSliderModel",
          "model_module_version": "1.5.0",
          "state": {
            "_dom_classes": [],
            "_model_module": "@jupyter-widgets/controls",
            "_model_module_version": "1.5.0",
            "_model_name": "FloatSliderModel",
            "_view_count": null,
            "_view_module": "@jupyter-widgets/controls",
            "_view_module_version": "1.5.0",
            "_view_name": "FloatSliderView",
            "continuous_update": true,
            "description": "learnRate",
            "description_tooltip": null,
            "disabled": false,
            "layout": "IPY_MODEL_dbc7f6f05ff548208c0b5fd03b33dcd0",
            "max": 0.3,
            "min": 0,
            "orientation": "horizontal",
            "readout": true,
            "readout_format": ".2f",
            "step": 0.001,
            "style": "IPY_MODEL_378ed40fc9884fefa45487b747fde9c0",
            "value": 0.048
          }
        },
        "dc0927cbecea43b1aae1b87eae9a3224": {
          "model_module": "@jupyter-widgets/output",
          "model_name": "OutputModel",
          "model_module_version": "1.0.0",
          "state": {
            "_dom_classes": [],
            "_model_module": "@jupyter-widgets/output",
            "_model_module_version": "1.0.0",
            "_model_name": "OutputModel",
            "_view_count": null,
            "_view_module": "@jupyter-widgets/output",
            "_view_module_version": "1.0.0",
            "_view_name": "OutputView",
            "layout": "IPY_MODEL_d74cec80d90144e2a67db79cdd0891ed",
            "msg_id": "",
            "outputs": [
              {
                "output_type": "stream",
                "name": "stdout",
                "text": [
                  "-1.7621011020576791\n"
                ]
              },
              {
                "output_type": "display_data",
                "data": {
                  "text/plain": "<Figure size 432x288 with 1 Axes>",
                  "image/png": "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\n"
                },
                "metadata": {}
              }
            ]
          }
        },
        "76cb13b09d7c4cd5a3ed4bf9b8706e00": {
          "model_module": "@jupyter-widgets/base",
          "model_name": "LayoutModel",
          "model_module_version": "1.2.0",
          "state": {
            "_model_module": "@jupyter-widgets/base",
            "_model_module_version": "1.2.0",
            "_model_name": "LayoutModel",
            "_view_count": null,
            "_view_module": "@jupyter-widgets/base",
            "_view_module_version": "1.2.0",
            "_view_name": "LayoutView",
            "align_content": null,
            "align_items": null,
            "align_self": null,
            "border": null,
            "bottom": null,
            "display": null,
            "flex": null,
            "flex_flow": null,
            "grid_area": null,
            "grid_auto_columns": null,
            "grid_auto_flow": null,
            "grid_auto_rows": null,
            "grid_column": null,
            "grid_gap": null,
            "grid_row": null,
            "grid_template_areas": null,
            "grid_template_columns": null,
            "grid_template_rows": null,
            "height": null,
            "justify_content": null,
            "justify_items": null,
            "left": null,
            "margin": null,
            "max_height": null,
            "max_width": null,
            "min_height": null,
            "min_width": null,
            "object_fit": null,
            "object_position": null,
            "order": null,
            "overflow": null,
            "overflow_x": null,
            "overflow_y": null,
            "padding": null,
            "right": null,
            "top": null,
            "visibility": null,
            "width": null
          }
        },
        "bdf45bdb319446a4b085d2cd10a18641": {
          "model_module": "@jupyter-widgets/base",
          "model_name": "LayoutModel",
          "model_module_version": "1.2.0",
          "state": {
            "_model_module": "@jupyter-widgets/base",
            "_model_module_version": "1.2.0",
            "_model_name": "LayoutModel",
            "_view_count": null,
            "_view_module": "@jupyter-widgets/base",
            "_view_module_version": "1.2.0",
            "_view_name": "LayoutView",
            "align_content": null,
            "align_items": null,
            "align_self": null,
            "border": null,
            "bottom": null,
            "display": null,
            "flex": null,
            "flex_flow": null,
            "grid_area": null,
            "grid_auto_columns": null,
            "grid_auto_flow": null,
            "grid_auto_rows": null,
            "grid_column": null,
            "grid_gap": null,
            "grid_row": null,
            "grid_template_areas": null,
            "grid_template_columns": null,
            "grid_template_rows": null,
            "height": null,
            "justify_content": null,
            "justify_items": null,
            "left": null,
            "margin": null,
            "max_height": null,
            "max_width": null,
            "min_height": null,
            "min_width": null,
            "object_fit": null,
            "object_position": null,
            "order": null,
            "overflow": null,
            "overflow_x": null,
            "overflow_y": null,
            "padding": null,
            "right": null,
            "top": null,
            "visibility": null,
            "width": null
          }
        },
        "af1069d89c094bddb72c797604be9aff": {
          "model_module": "@jupyter-widgets/controls",
          "model_name": "SliderStyleModel",
          "model_module_version": "1.5.0",
          "state": {
            "_model_module": "@jupyter-widgets/controls",
            "_model_module_version": "1.5.0",
            "_model_name": "SliderStyleModel",
            "_view_count": null,
            "_view_module": "@jupyter-widgets/base",
            "_view_module_version": "1.2.0",
            "_view_name": "StyleView",
            "description_width": "",
            "handle_color": null
          }
        },
        "6225a6f081cb441daec3a7920becc979": {
          "model_module": "@jupyter-widgets/base",
          "model_name": "LayoutModel",
          "model_module_version": "1.2.0",
          "state": {
            "_model_module": "@jupyter-widgets/base",
            "_model_module_version": "1.2.0",
            "_model_name": "LayoutModel",
            "_view_count": null,
            "_view_module": "@jupyter-widgets/base",
            "_view_module_version": "1.2.0",
            "_view_name": "LayoutView",
            "align_content": null,
            "align_items": null,
            "align_self": null,
            "border": null,
            "bottom": null,
            "display": null,
            "flex": null,
            "flex_flow": null,
            "grid_area": null,
            "grid_auto_columns": null,
            "grid_auto_flow": null,
            "grid_auto_rows": null,
            "grid_column": null,
            "grid_gap": null,
            "grid_row": null,
            "grid_template_areas": null,
            "grid_template_columns": null,
            "grid_template_rows": null,
            "height": null,
            "justify_content": null,
            "justify_items": null,
            "left": null,
            "margin": null,
            "max_height": null,
            "max_width": null,
            "min_height": null,
            "min_width": null,
            "object_fit": null,
            "object_position": null,
            "order": null,
            "overflow": null,
            "overflow_x": null,
            "overflow_y": null,
            "padding": null,
            "right": null,
            "top": null,
            "visibility": null,
            "width": null
          }
        },
        "04da3657c4fb42f886d727fe954a5c5b": {
          "model_module": "@jupyter-widgets/controls",
          "model_name": "SliderStyleModel",
          "model_module_version": "1.5.0",
          "state": {
            "_model_module": "@jupyter-widgets/controls",
            "_model_module_version": "1.5.0",
            "_model_name": "SliderStyleModel",
            "_view_count": null,
            "_view_module": "@jupyter-widgets/base",
            "_view_module_version": "1.2.0",
            "_view_name": "StyleView",
            "description_width": "",
            "handle_color": null
          }
        },
        "dbc7f6f05ff548208c0b5fd03b33dcd0": {
          "model_module": "@jupyter-widgets/base",
          "model_name": "LayoutModel",
          "model_module_version": "1.2.0",
          "state": {
            "_model_module": "@jupyter-widgets/base",
            "_model_module_version": "1.2.0",
            "_model_name": "LayoutModel",
            "_view_count": null,
            "_view_module": "@jupyter-widgets/base",
            "_view_module_version": "1.2.0",
            "_view_name": "LayoutView",
            "align_content": null,
            "align_items": null,
            "align_self": null,
            "border": null,
            "bottom": null,
            "display": null,
            "flex": null,
            "flex_flow": null,
            "grid_area": null,
            "grid_auto_columns": null,
            "grid_auto_flow": null,
            "grid_auto_rows": null,
            "grid_column": null,
            "grid_gap": null,
            "grid_row": null,
            "grid_template_areas": null,
            "grid_template_columns": null,
            "grid_template_rows": null,
            "height": null,
            "justify_content": null,
            "justify_items": null,
            "left": null,
            "margin": null,
            "max_height": null,
            "max_width": null,
            "min_height": null,
            "min_width": null,
            "object_fit": null,
            "object_position": null,
            "order": null,
            "overflow": null,
            "overflow_x": null,
            "overflow_y": null,
            "padding": null,
            "right": null,
            "top": null,
            "visibility": null,
            "width": null
          }
        },
        "378ed40fc9884fefa45487b747fde9c0": {
          "model_module": "@jupyter-widgets/controls",
          "model_name": "SliderStyleModel",
          "model_module_version": "1.5.0",
          "state": {
            "_model_module": "@jupyter-widgets/controls",
            "_model_module_version": "1.5.0",
            "_model_name": "SliderStyleModel",
            "_view_count": null,
            "_view_module": "@jupyter-widgets/base",
            "_view_module_version": "1.2.0",
            "_view_name": "StyleView",
            "description_width": "",
            "handle_color": null
          }
        },
        "d74cec80d90144e2a67db79cdd0891ed": {
          "model_module": "@jupyter-widgets/base",
          "model_name": "LayoutModel",
          "model_module_version": "1.2.0",
          "state": {
            "_model_module": "@jupyter-widgets/base",
            "_model_module_version": "1.2.0",
            "_model_name": "LayoutModel",
            "_view_count": null,
            "_view_module": "@jupyter-widgets/base",
            "_view_module_version": "1.2.0",
            "_view_name": "LayoutView",
            "align_content": null,
            "align_items": null,
            "align_self": null,
            "border": null,
            "bottom": null,
            "display": null,
            "flex": null,
            "flex_flow": null,
            "grid_area": null,
            "grid_auto_columns": null,
            "grid_auto_flow": null,
            "grid_auto_rows": null,
            "grid_column": null,
            "grid_gap": null,
            "grid_row": null,
            "grid_template_areas": null,
            "grid_template_columns": null,
            "grid_template_rows": null,
            "height": null,
            "justify_content": null,
            "justify_items": null,
            "left": null,
            "margin": null,
            "max_height": null,
            "max_width": null,
            "min_height": null,
            "min_width": null,
            "object_fit": null,
            "object_position": null,
            "order": null,
            "overflow": null,
            "overflow_x": null,
            "overflow_y": null,
            "padding": null,
            "right": null,
            "top": null,
            "visibility": null,
            "width": null
          }
        }
      }
    }
  },
  "cells": [
    {
      "cell_type": "code",
      "execution_count": 2,
      "metadata": {
        "id": "ax9aPs1E6T6Z"
      },
      "outputs": [],
      "source": [
        "import numpy as np\n",
        "import matplotlib as mpl\n",
        "import matplotlib.pyplot as plt\n",
        "from ipywidgets import *\n",
        "\n",
        "import random\n",
        "\n",
        "#!pip install ipympl\n",
        "from google.colab import output\n",
        "output.enable_custom_widget_manager()"
      ]
    },
    {
      "cell_type": "code",
      "source": [
        "plt.style.available\n",
        "style = plt.style.available\n",
        "plt.style.use(\"Solarize_Light2\")"
      ],
      "metadata": {
        "id": "f-OTT1OZepGP"
      },
      "execution_count": 3,
      "outputs": []
    },
    {
      "cell_type": "code",
      "source": [
        "def function(x):\n",
        "  return 0.2 * x**4 + 0.1 * x**3 - x**2 + 2\n",
        "\n",
        "def slope(x,h):\n",
        "  return (function(x+h) - function(x))/h\n",
        "\n",
        "def intercept(x,y,m):\n",
        "  return y - m*x"
      ],
      "metadata": {
        "id": "KmaLPBWfiiOx"
      },
      "execution_count": 4,
      "outputs": []
    },
    {
      "cell_type": "code",
      "source": [
        "def weird_function(point):\n",
        "  x = np.linspace(-2.7,2.5,1000)\n",
        "  y = function(x)\n",
        "  y_slope_curve = slope(x,0.00001) \n",
        "  mask = np.logical_and(  x[point]-np.cos(np.arctan(y_slope_curve[point])) < x, x[point]+np.cos(np.arctan(y_slope_curve[point])) > x)\n",
        "  y_slope_point = (x*y_slope_curve[point] + intercept(x[point],y[point],y_slope_curve[point]))[mask]\n",
        "  x_slope_point = x[mask]\n",
        "\n",
        "  fig, ax = plt.subplots()\n",
        "  ax.plot(x,y,color=\"LightGreen\")\n",
        "  ax.scatter(x,y_slope_curve,color=\"green\")\n",
        "  ax.plot(x_slope_point,y_slope_point,color=\"red\")\n",
        "  plt.ylim(ymin=0,ymax=5)\n",
        "  fig.show()\n",
        "\n",
        "interactive_plot = interactive(weird_function,point=(0,999))\n",
        "output = interactive_plot.children[-1]\n",
        "interactive_plot"
      ],
      "metadata": {
        "id": "_QvyX25155n6"
      },
      "execution_count": null,
      "outputs": []
    },
    {
      "cell_type": "code",
      "source": [
        "learnedMinimum = random.randint(-100,100)\n",
        "def learn(learnedMinimum,learnRate,h):\n",
        "  instanceSlope = slope(learnedMinimum,h)\n",
        "  learnedMinimum = learnedMinimum - instanceSlope * learnRate\n",
        "  return learnedMinimum\n",
        "\n",
        "def plot_learn(learnedMinimum):\n",
        "  x = np.linspace(learnedMinimum,learnedMinimum,1)\n",
        "  y = function(x)\n",
        "  return x,y\n"
      ],
      "metadata": {
        "id": "ByjIWA6kNGkR"
      },
      "execution_count": 21,
      "outputs": []
    },
    {
      "cell_type": "code",
      "source": [
        "def generic_function(point,Iterations,learnRate):\n",
        "  learnedMinimum = -0.01\n",
        "  for i in range(Iterations):\n",
        "    learnedMinimum = learn(learnedMinimum,learnRate,0.00001)\n",
        "  print(learnedMinimum)\n",
        "  x = np.linspace(-2.7,2.5,1000)\n",
        "  y = function(x)\n",
        "  y_slope_curve = slope(x,0.00001) \n",
        "  mask = np.logical_and(  x[point]-np.cos(np.arctan(y_slope_curve[point])) < x, x[point]+np.cos(np.arctan(y_slope_curve[point])) > x)\n",
        "  y_slope_point = (x*y_slope_curve[point] + intercept(x[point],y[point],y_slope_curve[point]))[mask]\n",
        "  x_slope_point = x[mask]\n",
        "\n",
        "  fig, ax = plt.subplots()\n",
        "  ax.plot(x,y,color=\"LightGreen\")\n",
        "  learned_x,learned_y = plot_learn(learnedMinimum)\n",
        "  ax.scatter(learned_x,learned_y,color=\"green\")\n",
        "  ax.plot(x_slope_point,y_slope_point,color=\"red\")\n",
        "  plt.ylim(ymin=0,ymax=5)\n",
        "  fig.show()\n",
        "\n",
        "interactive_plot = interactive(generic_function,point=(0,999),Iterations=(0,100),learnRate=(0.0,0.3,0.001))\n",
        "output = interactive_plot.children[-1]\n",
        "interactive_plot"
      ],
      "metadata": {
        "colab": {
          "base_uri": "https://localhost:8080/",
          "height": 382,
          "referenced_widgets": [
            "962233f5634a41df8a51aeebd27de00f",
            "5e4921279ec44be8ac8fb29fc09031fb",
            "47cdc574ee964c549efd271fdc42e95c",
            "bf16075c8ce34c6f89b5ff75a6464a6e",
            "dc0927cbecea43b1aae1b87eae9a3224",
            "76cb13b09d7c4cd5a3ed4bf9b8706e00",
            "bdf45bdb319446a4b085d2cd10a18641",
            "af1069d89c094bddb72c797604be9aff",
            "6225a6f081cb441daec3a7920becc979",
            "04da3657c4fb42f886d727fe954a5c5b",
            "dbc7f6f05ff548208c0b5fd03b33dcd0",
            "378ed40fc9884fefa45487b747fde9c0",
            "d74cec80d90144e2a67db79cdd0891ed"
          ]
        },
        "id": "WlsrXjkjMxq3",
        "outputId": "845cd428-ee6a-403c-837f-0a3163f73237"
      },
      "execution_count": 37,
      "outputs": [
        {
          "output_type": "display_data",
          "data": {
            "text/plain": [
              "interactive(children=(IntSlider(value=499, description='point', max=999), IntSlider(value=50, description='Ite…"
            ],
            "application/vnd.jupyter.widget-view+json": {
              "version_major": 2,
              "version_minor": 0,
              "model_id": "962233f5634a41df8a51aeebd27de00f"
            }
          },
          "metadata": {
            "application/vnd.jupyter.widget-view+json": {
              "colab": {
                "custom_widget_manager": {
                  "url": "https://ssl.gstatic.com/colaboratory-static/widgets/colab-cdn-widget-manager/b3e629b1971e1542/manager.min.js"
                }
              }
            }
          }
        }
      ]
    },
    {
      "cell_type": "code",
      "source": [],
      "metadata": {
        "id": "WJK-xQ-YErKU"
      },
      "execution_count": null,
      "outputs": []
    },
    {
      "cell_type": "code",
      "source": [
        "def generic_function(point,Iterations,learnRate):\n",
        "  learnedMinimum = 3\n",
        "  for i in range(Iterations):\n",
        "    learnedMinimum = learn(learnedMinimum,learnRate,0.00001)\n",
        "  x = np.linspace(-2.7,2.5,1000)\n",
        "  y = function(x)\n",
        "  y_slope_curve = slope(x,0.00001) \n",
        "  mask = np.logical_and(  x[point]-np.cos(np.arctan(y_slope_curve[point])) < x, x[point]+np.cos(np.arctan(y_slope_curve[point])) > x)\n",
        "  y_slope_point = (x*y_slope_curve[point] + intercept(x[point],y[point],y_slope_curve[point]))[mask]\n",
        "  x_slope_point = x[mask]\n",
        "\n",
        "  fig, ax = plt.subplots()\n",
        "  ax.plot(x,y,color=\"LightGreen\")\n",
        "  learned_x,learned_y = plot_learn(learnedMinimum)\n",
        "  ax.scatter(learned_x,learned_y,color=\"green\")\n",
        "  ax.plot(x_slope_point,y_slope_point,color=\"red\")\n",
        "  plt.ylim(ymin=0,ymax=5)\n",
        "  fig.show()\n",
        "\n",
        "interactive_plot = interactive(generic_function,point=(0,999),Iterations=(0,50),learnRate=(0.0,0.1,0.001))\n",
        "output = interactive_plot.children[-1]\n",
        "interactive_plot"
      ],
      "metadata": {
        "id": "fcK56TIDEs9X"
      },
      "execution_count": null,
      "outputs": []
    }
  ]
}
