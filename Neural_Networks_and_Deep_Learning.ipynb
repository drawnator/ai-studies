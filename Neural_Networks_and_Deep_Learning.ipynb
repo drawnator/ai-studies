{
  "nbformat": 4,
  "nbformat_minor": 0,
  "metadata": {
    "colab": {
      "provenance": []
    },
    "kernelspec": {
      "name": "python3",
      "display_name": "Python 3"
    },
    "language_info": {
      "name": "python"
    },
    "widgets": {
      "application/vnd.jupyter.widget-state+json": {
        "719f4194d4a14b858a4d8f317f1d6b46": {
          "model_module": "@jupyter-widgets/controls",
          "model_name": "VBoxModel",
          "model_module_version": "1.5.0",
          "state": {
            "_dom_classes": [
              "widget-interact"
            ],
            "_model_module": "@jupyter-widgets/controls",
            "_model_module_version": "1.5.0",
            "_model_name": "VBoxModel",
            "_view_count": null,
            "_view_module": "@jupyter-widgets/controls",
            "_view_module_version": "1.5.0",
            "_view_name": "VBoxView",
            "box_style": "",
            "children": [
              "IPY_MODEL_034ff4f3ebb04312832f0c6c053216e5",
              "IPY_MODEL_a3688e2a7d66453abb998d13a0ad1635"
            ],
            "layout": "IPY_MODEL_a5305fd0624c4733896e1d3ead5db7da"
          }
        },
        "034ff4f3ebb04312832f0c6c053216e5": {
          "model_module": "@jupyter-widgets/controls",
          "model_name": "IntSliderModel",
          "model_module_version": "1.5.0",
          "state": {
            "_dom_classes": [],
            "_model_module": "@jupyter-widgets/controls",
            "_model_module_version": "1.5.0",
            "_model_name": "IntSliderModel",
            "_view_count": null,
            "_view_module": "@jupyter-widgets/controls",
            "_view_module_version": "1.5.0",
            "_view_name": "IntSliderView",
            "continuous_update": true,
            "description": "point",
            "description_tooltip": null,
            "disabled": false,
            "layout": "IPY_MODEL_4537dde960fb4fc7bd7040e8f3b1bdf8",
            "max": 999,
            "min": 0,
            "orientation": "horizontal",
            "readout": true,
            "readout_format": "d",
            "step": 1,
            "style": "IPY_MODEL_6ffe45f63c4f41b0af86cce4c13e5d3d",
            "value": 499
          }
        },
        "a3688e2a7d66453abb998d13a0ad1635": {
          "model_module": "@jupyter-widgets/output",
          "model_name": "OutputModel",
          "model_module_version": "1.0.0",
          "state": {
            "_dom_classes": [],
            "_model_module": "@jupyter-widgets/output",
            "_model_module_version": "1.0.0",
            "_model_name": "OutputModel",
            "_view_count": null,
            "_view_module": "@jupyter-widgets/output",
            "_view_module_version": "1.0.0",
            "_view_name": "OutputView",
            "layout": "IPY_MODEL_7485aceb290d46258291b26607a7d4a4",
            "msg_id": "",
            "outputs": [
              {
                "output_type": "display_data",
                "data": {
                  "text/plain": "<Figure size 432x288 with 1 Axes>",
                  "image/png": "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\n"
                },
                "metadata": {}
              }
            ]
          }
        },
        "a5305fd0624c4733896e1d3ead5db7da": {
          "model_module": "@jupyter-widgets/base",
          "model_name": "LayoutModel",
          "model_module_version": "1.2.0",
          "state": {
            "_model_module": "@jupyter-widgets/base",
            "_model_module_version": "1.2.0",
            "_model_name": "LayoutModel",
            "_view_count": null,
            "_view_module": "@jupyter-widgets/base",
            "_view_module_version": "1.2.0",
            "_view_name": "LayoutView",
            "align_content": null,
            "align_items": null,
            "align_self": null,
            "border": null,
            "bottom": null,
            "display": null,
            "flex": null,
            "flex_flow": null,
            "grid_area": null,
            "grid_auto_columns": null,
            "grid_auto_flow": null,
            "grid_auto_rows": null,
            "grid_column": null,
            "grid_gap": null,
            "grid_row": null,
            "grid_template_areas": null,
            "grid_template_columns": null,
            "grid_template_rows": null,
            "height": null,
            "justify_content": null,
            "justify_items": null,
            "left": null,
            "margin": null,
            "max_height": null,
            "max_width": null,
            "min_height": null,
            "min_width": null,
            "object_fit": null,
            "object_position": null,
            "order": null,
            "overflow": null,
            "overflow_x": null,
            "overflow_y": null,
            "padding": null,
            "right": null,
            "top": null,
            "visibility": null,
            "width": null
          }
        },
        "4537dde960fb4fc7bd7040e8f3b1bdf8": {
          "model_module": "@jupyter-widgets/base",
          "model_name": "LayoutModel",
          "model_module_version": "1.2.0",
          "state": {
            "_model_module": "@jupyter-widgets/base",
            "_model_module_version": "1.2.0",
            "_model_name": "LayoutModel",
            "_view_count": null,
            "_view_module": "@jupyter-widgets/base",
            "_view_module_version": "1.2.0",
            "_view_name": "LayoutView",
            "align_content": null,
            "align_items": null,
            "align_self": null,
            "border": null,
            "bottom": null,
            "display": null,
            "flex": null,
            "flex_flow": null,
            "grid_area": null,
            "grid_auto_columns": null,
            "grid_auto_flow": null,
            "grid_auto_rows": null,
            "grid_column": null,
            "grid_gap": null,
            "grid_row": null,
            "grid_template_areas": null,
            "grid_template_columns": null,
            "grid_template_rows": null,
            "height": null,
            "justify_content": null,
            "justify_items": null,
            "left": null,
            "margin": null,
            "max_height": null,
            "max_width": null,
            "min_height": null,
            "min_width": null,
            "object_fit": null,
            "object_position": null,
            "order": null,
            "overflow": null,
            "overflow_x": null,
            "overflow_y": null,
            "padding": null,
            "right": null,
            "top": null,
            "visibility": null,
            "width": null
          }
        },
        "6ffe45f63c4f41b0af86cce4c13e5d3d": {
          "model_module": "@jupyter-widgets/controls",
          "model_name": "SliderStyleModel",
          "model_module_version": "1.5.0",
          "state": {
            "_model_module": "@jupyter-widgets/controls",
            "_model_module_version": "1.5.0",
            "_model_name": "SliderStyleModel",
            "_view_count": null,
            "_view_module": "@jupyter-widgets/base",
            "_view_module_version": "1.2.0",
            "_view_name": "StyleView",
            "description_width": "",
            "handle_color": null
          }
        },
        "7485aceb290d46258291b26607a7d4a4": {
          "model_module": "@jupyter-widgets/base",
          "model_name": "LayoutModel",
          "model_module_version": "1.2.0",
          "state": {
            "_model_module": "@jupyter-widgets/base",
            "_model_module_version": "1.2.0",
            "_model_name": "LayoutModel",
            "_view_count": null,
            "_view_module": "@jupyter-widgets/base",
            "_view_module_version": "1.2.0",
            "_view_name": "LayoutView",
            "align_content": null,
            "align_items": null,
            "align_self": null,
            "border": null,
            "bottom": null,
            "display": null,
            "flex": null,
            "flex_flow": null,
            "grid_area": null,
            "grid_auto_columns": null,
            "grid_auto_flow": null,
            "grid_auto_rows": null,
            "grid_column": null,
            "grid_gap": null,
            "grid_row": null,
            "grid_template_areas": null,
            "grid_template_columns": null,
            "grid_template_rows": null,
            "height": null,
            "justify_content": null,
            "justify_items": null,
            "left": null,
            "margin": null,
            "max_height": null,
            "max_width": null,
            "min_height": null,
            "min_width": null,
            "object_fit": null,
            "object_position": null,
            "order": null,
            "overflow": null,
            "overflow_x": null,
            "overflow_y": null,
            "padding": null,
            "right": null,
            "top": null,
            "visibility": null,
            "width": null
          }
        }
      }
    }
  },
  "cells": [
    {
      "cell_type": "code",
      "execution_count": 2,
      "metadata": {
        "id": "ax9aPs1E6T6Z"
      },
      "outputs": [],
      "source": [
        "import numpy as np\n",
        "import matplotlib as mpl\n",
        "import matplotlib.pyplot as plt\n",
        "from ipywidgets import *\n",
        "\n",
        "#!pip install ipympl\n",
        "from google.colab import output\n",
        "output.enable_custom_widget_manager()"
      ]
    },
    {
      "cell_type": "code",
      "source": [
        "plt.style.available\n",
        "style = plt.style.available\n",
        "plt.style.use(\"Solarize_Light2\")"
      ],
      "metadata": {
        "id": "f-OTT1OZepGP"
      },
      "execution_count": 12,
      "outputs": []
    },
    {
      "cell_type": "code",
      "source": [
        "def function(x):\n",
        "  return 0.2 * x**4 + 0.1 * x**3 - x**2 + 2\n",
        "\n",
        "def slope(x,h):\n",
        "  return (function(x+h) - function(x))/h\n",
        "\n",
        "def draw_line(x,y_slope_curve,point):\n",
        "  return (x*y_slope_curve[point])\n",
        "\n",
        "def intercept(x,y,m):\n",
        "  return y - m*x"
      ],
      "metadata": {
        "id": "KmaLPBWfiiOx"
      },
      "execution_count": 39,
      "outputs": []
    },
    {
      "cell_type": "code",
      "source": [
        "def weird_function(point):\n",
        "  x = np.linspace(-2.7,2.5,1000)\n",
        "  y = function(x)\n",
        "  y_slope_curve = slope(x,0.00001) \n",
        "  mask = np.logical_and(  x[point]-np.cos(np.arctan(y_slope_curve[point])) < x, x[point]+np.cos(np.arctan(y_slope_curve[point])) > x)\n",
        "  y_slope_point = (x*y_slope_curve[point] + intercept(x[point],y[point],y_slope_curve[point]))[mask]\n",
        "  x_slope_point = x[mask]\n",
        "\n",
        "  fig, ax = plt.subplots()\n",
        "  ax.plot(x,y,color=\"LightGreen\")\n",
        "  #ax.scatter(x,y_slope_curve,color=\"green\")\n",
        "  ax.plot(x_slope_point,y_slope_point,color=\"red\")\n",
        "  plt.ylim(ymin=0,ymax=5)\n",
        "  fig.show()\n",
        "\n",
        "interactive_plot = interactive(weird_function,point=(0,999))\n",
        "output = interactive_plot.children[-1]\n",
        "interactive_plot"
      ],
      "metadata": {
        "id": "_QvyX25155n6",
        "outputId": "96953c83-95e0-427f-e75f-94528b886c70",
        "colab": {
          "base_uri": "https://localhost:8080/",
          "height": 301,
          "referenced_widgets": [
            "719f4194d4a14b858a4d8f317f1d6b46",
            "034ff4f3ebb04312832f0c6c053216e5",
            "a3688e2a7d66453abb998d13a0ad1635",
            "a5305fd0624c4733896e1d3ead5db7da",
            "4537dde960fb4fc7bd7040e8f3b1bdf8",
            "6ffe45f63c4f41b0af86cce4c13e5d3d",
            "7485aceb290d46258291b26607a7d4a4"
          ]
        }
      },
      "execution_count": 46,
      "outputs": [
        {
          "output_type": "display_data",
          "data": {
            "text/plain": [
              "interactive(children=(IntSlider(value=499, description='point', max=999), Output()), _dom_classes=('widget-int…"
            ],
            "application/vnd.jupyter.widget-view+json": {
              "version_major": 2,
              "version_minor": 0,
              "model_id": "719f4194d4a14b858a4d8f317f1d6b46"
            }
          },
          "metadata": {
            "application/vnd.jupyter.widget-view+json": {
              "colab": {
                "custom_widget_manager": {
                  "url": "https://ssl.gstatic.com/colaboratory-static/widgets/colab-cdn-widget-manager/b3e629b1971e1542/manager.min.js"
                }
              }
            }
          }
        }
      ]
    }
  ]
}
